{
 "cells": [
  {
   "cell_type": "code",
   "execution_count": 1,
   "metadata": {
    "collapsed": true
   },
   "outputs": [],
   "source": [
    "import pandas as pd\n",
    "import csv"
   ]
  },
  {
   "cell_type": "code",
   "execution_count": 2,
   "metadata": {
    "collapsed": false
   },
   "outputs": [],
   "source": [
    "# Load the char data into a dataframe and set all the empty spaces to 0\n",
    "my_df = pd.read_csv(\"HZ06_char.csv\")\n",
    "my_df = my_df.fillna(0)"
   ]
  },
  {
   "cell_type": "code",
   "execution_count": 3,
   "metadata": {
    "collapsed": false
   },
   "outputs": [],
   "source": [
    "def get_char(test_num, temp, char_row):\n",
    "    #This function pulls in a line from the characterization file based on test number and temperature\n",
    "    char_list = my_df[(my_df['Test #']==int(test_num)) & (my_df['Temp']==int(temp))].values.flatten().tolist()\n",
    "    char_row.extend(char_list[:])"
   ]
  },
  {
   "cell_type": "code",
   "execution_count": 4,
   "metadata": {
    "collapsed": true
   },
   "outputs": [],
   "source": [
    "def get_header(head_row):\n",
    "    #This function gets the header information from the characterization file\n",
    "    head_list = my_df.columns\n",
    "    head_row.extend(head_list[:])"
   ]
  },
  {
   "cell_type": "code",
   "execution_count": 5,
   "metadata": {
    "collapsed": false
   },
   "outputs": [],
   "source": [
    "def split_test_number():\n",
    "    #Use col_name_index to identify which column contains the test number\n",
    "    col_name_index = 13 #Test Number\n",
    "    \n",
    "    if not \"Test\" in row[col_name_index]: #skip header row     \n",
    "        \n",
    "        #parse the different entries of test numbers\n",
    "        #test numbers are entered using different formats so this separates so \n",
    "        #the program can print char data for each test\n",
    "        if \",\" in row[col_name_index]:\n",
    "            mylist = row[col_name_index].split(\",\")\n",
    "        else:\n",
    "            mylist = row[col_name_index].split() \n",
    "        for test_num in mylist:\n",
    "            new_row[-1] = int(test_num)        #update parsed test number and create a new row for it.            \n",
    "            for temp in [85,25,-40]:\n",
    "                char_row = new_row[:]\n",
    "                get_char(test_num, temp, char_row)\n",
    "                writer_in.writerows([char_row])  #need [] otherwise it prints by character.\n",
    "    else:\n",
    "        head_row = row[:]\n",
    "        get_header(head_row)\n",
    "        writer_in.writerows([head_row])  #write the header line"
   ]
  },
  {
   "cell_type": "code",
   "execution_count": 6,
   "metadata": {
    "collapsed": false
   },
   "outputs": [
    {
     "data": {
      "text/plain": [
       "True"
      ]
     },
     "execution_count": 6,
     "metadata": {},
     "output_type": "execute_result"
    }
   ],
   "source": [
    "\n",
    "with open('HZ06_EC_Table.csv','rb') as f_in:\n",
    "    reader_in = csv.reader(f_in)\n",
    "  \n",
    "    output_file = 'final_file.csv'\n",
    "    with open(output_file, 'wb') as f_out:\n",
    "        writer_in = csv.writer(f_out)\n",
    "    \n",
    "        for row in reader_in:\n",
    "            if len(row) != 0: #check if it's an empty line\n",
    "                \n",
    "                # Look for row that has empty Pspec field.  Need to duplicate it.\n",
    "                if row[0] == \"\" and row[-1] != \"\":\n",
    "                    new_row = saved_row[:] #need to slice it otherwise it just references, not copies.\n",
    "                    new_row.extend(row[9:])   \n",
    "                    split_test_number()\n",
    "                    \n",
    "                else:\n",
    "                    saved_row = row[:9]    #save part of this row if there are blanks on the next\n",
    "                    new_row = row[:]       #save the entire row for editing test #s\n",
    "                    \n",
    "                    if row[-1] != \"\":  #row has a test #\n",
    "                        split_test_number()\n",
    "                    else:\n",
    "                        writer_in.writerows([row])  #need [] otherwise it prints by character.\n",
    "    f_out.closed\n",
    "f_in.closed"
   ]
  },
  {
   "cell_type": "code",
   "execution_count": null,
   "metadata": {
    "collapsed": false
   },
   "outputs": [],
   "source": []
  },
  {
   "cell_type": "code",
   "execution_count": null,
   "metadata": {
    "collapsed": true
   },
   "outputs": [],
   "source": []
  }
 ],
 "metadata": {
  "kernelspec": {
   "display_name": "Python 2",
   "language": "python",
   "name": "python2"
  },
  "language_info": {
   "codemirror_mode": {
    "name": "ipython",
    "version": 2
   },
   "file_extension": ".py",
   "mimetype": "text/x-python",
   "name": "python",
   "nbconvert_exporter": "python",
   "pygments_lexer": "ipython2",
   "version": "2.7.13"
  }
 },
 "nbformat": 4,
 "nbformat_minor": 2
}
